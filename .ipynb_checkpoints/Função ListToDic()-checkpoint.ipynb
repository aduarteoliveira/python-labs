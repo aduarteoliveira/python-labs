{
 "cells": [
  {
   "cell_type": "markdown",
   "metadata": {},
   "source": [
    "# Função ListToDic\n",
    "A função ListToDic retorna um dicionário a partir de duas ou mais listas informadas.\n",
    "\n",
    "ListToDic(KeyList,OtherLists) onde:\n",
    "    - KeyList é o nome da lista de chaves do dicionário\n",
    "    - OtherLists demais listas de valores.\n",
    "    \n",
    "Exemplo:\n",
    "\n",
    "a = list(\"nome\",\"idade\",\"sexo\")\n",
    "b = list(\"Alex\",\"Maria\",\"Joana\")\n",
    "c = list(\"M\",\"F\",\"F\")"
   ]
  },
  {
   "cell_type": "code",
   "execution_count": 2,
   "metadata": {},
   "outputs": [],
   "source": [
    "def ListToDic(a,*args):\n",
    "    dic = {}\n",
    "    key = ''\n",
    "    for m in a:\n",
    "        args = list(args)\n",
    "        for p in args:\n",
    "            #print(\"P:\",p)\n",
    "            key = m\n",
    "            dic[key] = []\n",
    "            for arg in args:\n",
    "                dic[key].append(arg[a.index(m)])\n",
    "            break\n",
    "    return(dic)"
   ]
  },
  {
   "cell_type": "code",
   "execution_count": 30,
   "metadata": {},
   "outputs": [
    {
     "name": "stdout",
     "output_type": "stream",
     "text": [
      "[25, 30, 18, 'M', 'F', 'F']\n"
     ]
    }
   ],
   "source": [
    "a = [\"Alex\",\"Maria\",\"Joana\"]\n",
    "b = [25,30,18]\n",
    "c = [\"M\",\"F\",\"F\"]\n",
    "\n",
    "l = b+c\n",
    "print(l)\n",
    "#ListToDic(a,b,c)"
   ]
  },
  {
   "cell_type": "code",
   "execution_count": 32,
   "metadata": {},
   "outputs": [
    {
     "name": "stdout",
     "output_type": "stream",
     "text": [
      "{'Alex': [[25, 30, 18]], 'Maria': [[25, 30, 18]], 'Joana': [[25, 30, 18]]}\n"
     ]
    }
   ],
   "source": [
    "a = [\"Alex\",\"Maria\",\"Joana\"]\n",
    "b = [25,30,18]\n",
    "c = [\"M\",\"F\",\"F\"]\n",
    "arg = list(b)\n",
    "\n",
    "dic = {}\n",
    "key = ''\n",
    "i = 0\n",
    "for m in a:\n",
    "    key = m\n",
    "    dic[key] = []\n",
    "    for n in arg:\n",
    "        dic[key]=[arg]\n",
    "print(dic)"
   ]
  },
  {
   "cell_type": "code",
   "execution_count": 28,
   "metadata": {},
   "outputs": [
    {
     "data": {
      "text/plain": [
       "{'Alex': ['M', 'F', 'F'], 'Maria': ['M', 'F', 'F'], 'Joana': ['M', 'F', 'F']}"
      ]
     },
     "execution_count": 28,
     "metadata": {},
     "output_type": "execute_result"
    }
   ],
   "source": [
    "a = [\"Alex\",\"Maria\",\"Joana\"]\n",
    "b = [25,30,18]\n",
    "c = [\"M\",\"F\",\"F\"]\n",
    "\n",
    "ListToDic(a,b,c)"
   ]
  },
  {
   "cell_type": "code",
   "execution_count": 107,
   "metadata": {},
   "outputs": [],
   "source": [
    "def ListToDic(a,*args):\n",
    "\n",
    "    dic = {}\n",
    "    key = ''\n",
    "    cont_a = len(e)\n",
    "    cont_args = len(args)\n",
    "    if cont_a > cont_args:\n",
    "        print('O numero de chaves não é correspondente ao numero de valores informados para o dicionario.')\n",
    "    else:\n",
    "        for m in e:\n",
    "            args = list(args)\n",
    "            for p in args:\n",
    "                tmp = args.index(p)\n",
    "                vals = args[args.index(p)]\n",
    "                if tmp == e.index(m):\n",
    "                    key = m\n",
    "                    dic[key] = []\n",
    "                    n = 0\n",
    "                    while n < len(vals):\n",
    "                        dic[key].append(vals[n])\n",
    "                        n = n+1\n",
    "        return(dic)"
   ]
  },
  {
   "cell_type": "code",
   "execution_count": 124,
   "metadata": {},
   "outputs": [],
   "source": [
    "a = [\"nome\",\"idade\",\"sexo\"]\n",
    "b = [\"Alex\",\"Maria\",\"Joana\"]\n",
    "c = [25,30,18]\n",
    "d = [\"M\",\"F\",\"F\"]"
   ]
  },
  {
   "cell_type": "code",
   "execution_count": 125,
   "metadata": {},
   "outputs": [
    {
     "name": "stdout",
     "output_type": "stream",
     "text": [
      "O numero de chaves não é correspondente ao numero de valores informados para o dicionario.\n"
     ]
    }
   ],
   "source": [
    "dic = ListToDic(a,b,c,d)"
   ]
  },
  {
   "cell_type": "code",
   "execution_count": 105,
   "metadata": {},
   "outputs": [
    {
     "ename": "AttributeError",
     "evalue": "'list' object has no attribute 'items'",
     "output_type": "error",
     "traceback": [
      "\u001b[1;31m---------------------------------------------------------------------------\u001b[0m",
      "\u001b[1;31mAttributeError\u001b[0m                            Traceback (most recent call last)",
      "\u001b[1;32m<ipython-input-105-65cdde28855a>\u001b[0m in \u001b[0;36m<module>\u001b[1;34m\u001b[0m\n\u001b[0;32m      5\u001b[0m \u001b[0margs\u001b[0m\u001b[1;33m.\u001b[0m\u001b[0mappend\u001b[0m\u001b[1;33m(\u001b[0m\u001b[0md\u001b[0m\u001b[1;33m)\u001b[0m\u001b[1;33m\u001b[0m\u001b[1;33m\u001b[0m\u001b[0m\n\u001b[0;32m      6\u001b[0m \u001b[1;33m\u001b[0m\u001b[0m\n\u001b[1;32m----> 7\u001b[1;33m \u001b[0mx\u001b[0m \u001b[1;33m=\u001b[0m \u001b[0margs\u001b[0m\u001b[1;33m.\u001b[0m\u001b[0mitems\u001b[0m\u001b[1;33m(\u001b[0m\u001b[1;33m)\u001b[0m\u001b[1;33m\u001b[0m\u001b[1;33m\u001b[0m\u001b[0m\n\u001b[0m",
      "\u001b[1;31mAttributeError\u001b[0m: 'list' object has no attribute 'items'"
     ]
    }
   ],
   "source": [
    "args = []\n",
    "args.append(a)\n",
    "args.append(b)\n",
    "args.append(c)\n",
    "args.append(d)\n",
    "\n",
    "x = args.items()"
   ]
  },
  {
   "cell_type": "code",
   "execution_count": 135,
   "metadata": {},
   "outputs": [],
   "source": [
    "def help():\n",
    "    print(\"/n The ListToDic funcition returns a dictionary from two or more lists provided. /n Usage: /n\")"
   ]
  }
 ],
 "metadata": {
  "kernelspec": {
   "display_name": "Python 3",
   "language": "python",
   "name": "python3"
  },
  "language_info": {
   "codemirror_mode": {
    "name": "ipython",
    "version": 3
   },
   "file_extension": ".py",
   "mimetype": "text/x-python",
   "name": "python",
   "nbconvert_exporter": "python",
   "pygments_lexer": "ipython3",
   "version": "3.7.4"
  }
 },
 "nbformat": 4,
 "nbformat_minor": 2
}
